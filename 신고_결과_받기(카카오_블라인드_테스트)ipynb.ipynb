{
  "nbformat": 4,
  "nbformat_minor": 0,
  "metadata": {
    "colab": {
      "name": "신고 결과 받기(카카오 블라인드 테스트)ipynb",
      "provenance": [],
      "collapsed_sections": [],
      "authorship_tag": "ABX9TyNLjtghEV+Fqzam5oq+t5+m",
      "include_colab_link": true
    },
    "kernelspec": {
      "name": "python3",
      "display_name": "Python 3"
    },
    "language_info": {
      "name": "python"
    }
  },
  "cells": [
    {
      "cell_type": "markdown",
      "metadata": {
        "id": "view-in-github",
        "colab_type": "text"
      },
      "source": [
        "<a href=\"https://colab.research.google.com/github/epochee/CodingTest/blob/main/%EC%8B%A0%EA%B3%A0_%EA%B2%B0%EA%B3%BC_%EB%B0%9B%EA%B8%B0(%EC%B9%B4%EC%B9%B4%EC%98%A4_%EB%B8%94%EB%9D%BC%EC%9D%B8%EB%93%9C_%ED%85%8C%EC%8A%A4%ED%8A%B8)ipynb.ipynb\" target=\"_parent\"><img src=\"https://colab.research.google.com/assets/colab-badge.svg\" alt=\"Open In Colab\"/></a>"
      ]
    },
    {
      "cell_type": "code",
      "execution_count": 66,
      "metadata": {
        "id": "uhQQPjwLUIur"
      },
      "outputs": [],
      "source": [
        "id_list = [\"muzi\", \"frodo\", \"apeach\", \"neo\"]\n",
        "report = [\"muzi frodo\",\"apeach frodo\",\"frodo neo\",\"muzi neo\",\"apeach muzi\"]\n",
        "k = 2"
      ]
    },
    {
      "cell_type": "code",
      "source": [
        "rpt_list = []\n",
        "report = list(set(report))\n",
        "for i in report:\n",
        "  rpt_list.append(i.split())\n",
        "\n",
        "spam = [i[1] for i in rpt_list]\n",
        "\n",
        "print(rpt_list)\n",
        "print(spam)"
      ],
      "metadata": {
        "colab": {
          "base_uri": "https://localhost:8080/"
        },
        "id": "ckZAAosGVlbG",
        "outputId": "b34cfc2c-a07e-41b3-f22d-03e692520a85"
      },
      "execution_count": 60,
      "outputs": [
        {
          "output_type": "stream",
          "name": "stdout",
          "text": [
            "[['apeach', 'frodo'], ['frodo', 'neo'], ['muzi', 'frodo'], ['muzi', 'neo'], ['apeach', 'muzi']]\n",
            "['frodo', 'neo', 'frodo', 'neo', 'muzi']\n"
          ]
        }
      ]
    },
    {
      "cell_type": "code",
      "source": [
        "for id in id_list:\n",
        "  if id in spam:\n",
        "    if spam.count(id)<k:\n",
        "      spam.remove(id)\n",
        "\n",
        "spam_f = list(set(spam))\n",
        "print(spam_f)"
      ],
      "metadata": {
        "colab": {
          "base_uri": "https://localhost:8080/"
        },
        "id": "2ji-tblIXX5Q",
        "outputId": "46d80818-f33c-469c-de5c-ba8ae2d81b07"
      },
      "execution_count": 54,
      "outputs": [
        {
          "output_type": "stream",
          "name": "stdout",
          "text": [
            "['neo', 'frodo']\n"
          ]
        }
      ]
    },
    {
      "cell_type": "code",
      "source": [
        "for i in id_list:\n",
        "\tglobals()[i] = 0\n",
        "\n",
        "for i in rpt_list:\n",
        "  if i[1] in spam_f:\n",
        "    globals()[i[0]] += 1"
      ],
      "metadata": {
        "id": "x5Fnp88JjFxL"
      },
      "execution_count": 56,
      "outputs": []
    },
    {
      "cell_type": "code",
      "source": [
        "[globals()[i] for i in id_list]"
      ],
      "metadata": {
        "colab": {
          "base_uri": "https://localhost:8080/"
        },
        "id": "aPZUxcKaz6ap",
        "outputId": "32c2d8aa-c9cb-4fa8-e424-15b425418d70"
      },
      "execution_count": 59,
      "outputs": [
        {
          "output_type": "execute_result",
          "data": {
            "text/plain": [
              "[2, 1, 1, 0]"
            ]
          },
          "metadata": {},
          "execution_count": 59
        }
      ]
    },
    {
      "cell_type": "markdown",
      "source": [
        "# 결과"
      ],
      "metadata": {
        "id": "gzQ0FcRa03GZ"
      }
    },
    {
      "cell_type": "code",
      "source": [
        "id_list = [\"muzi\", \"frodo\", \"apeach\", \"neo\"]\n",
        "report = [\"muzi frodo\",\"apeach frodo\",\"frodo neo\",\"muzi neo\",\"apeach muzi\"]\n",
        "k = 2"
      ],
      "metadata": {
        "id": "CJx-WdKfAQVY"
      },
      "execution_count": 71,
      "outputs": []
    },
    {
      "cell_type": "code",
      "source": [
        "id_list = [\"frodo\", \"muzi\", \"apeach\", \"neo\"]\n",
        "report = [\"muzi frodo\",\"apeach frodo\",\"frodo neo\",\"muzi neo\",\"apeach muzi\"]\n",
        "k = 2"
      ],
      "metadata": {
        "id": "JJDXJ1Y8ATbV"
      },
      "execution_count": 69,
      "outputs": []
    },
    {
      "cell_type": "code",
      "source": [
        "id_list = [\"con\", \"ryan\"]\n",
        "report = [\"ryan con\", \"ryan con\", \"ryan con\", \"ryan con\"]\n",
        "k = 3"
      ],
      "metadata": {
        "id": "gm8Yew3Y9vtN"
      },
      "execution_count": 64,
      "outputs": []
    },
    {
      "cell_type": "markdown",
      "source": [
        "# 내 풀이"
      ],
      "metadata": {
        "id": "mDvvDRiYE4Kc"
      }
    },
    {
      "cell_type": "code",
      "source": [
        "rpt_list = []\n",
        "report = list(set(report))\n",
        "for i in report:\n",
        "  rpt_list.append(i.split())\n",
        "\n",
        "spam = [i[1] for i in rpt_list]\n",
        "\n",
        "for id in id_list:\n",
        "  if id in spam:\n",
        "    if spam.count(id)<k:\n",
        "      spam.remove(id)\n",
        "\n",
        "spam_f = list(set(spam))\n",
        "\n",
        "for i in id_list:\n",
        "\tglobals()[i] = 0\n",
        "\n",
        "for i in rpt_list:\n",
        "  if i[1] in spam_f:\n",
        "    globals()[i[0]] += 1\n",
        "\n",
        "print([globals()[i] for i in id_list])"
      ],
      "metadata": {
        "colab": {
          "base_uri": "https://localhost:8080/"
        },
        "id": "mA9NhDMr01px",
        "outputId": "1d0bfb6e-e288-49a7-ae0c-d03047760f3b"
      },
      "execution_count": 70,
      "outputs": [
        {
          "output_type": "stream",
          "name": "stdout",
          "text": [
            "[1, 2, 1, 0]\n"
          ]
        }
      ]
    },
    {
      "cell_type": "code",
      "source": [
        "def solution(id_list, report, k):\n",
        "    rpt_list = []\n",
        "    report = list(set(report))\n",
        "    for i in report:\n",
        "      rpt_list.append(i.split())\n",
        "\n",
        "    spam = [i[1] for i in rpt_list]\n",
        "\n",
        "\n",
        "    for id in id_list:\n",
        "      if id in spam:\n",
        "        if spam.count(id)<k:\n",
        "          spam.remove(id)\n",
        "\n",
        "    spam_f = list(set(spam))\n",
        "    for i in id_list:\n",
        "        globals()[i] = 0\n",
        "\n",
        "    for i in rpt_list:\n",
        "      if i[1] in spam_f:\n",
        "        globals()[i[0]] += 1\n",
        "        \n",
        "    answer = [globals()[i] for i in id_list]\n",
        "    return answer"
      ],
      "metadata": {
        "id": "qWQe_uCqDX8b"
      },
      "execution_count": null,
      "outputs": []
    },
    {
      "cell_type": "markdown",
      "source": [
        "# 다른 분들 풀이"
      ],
      "metadata": {
        "id": "MZaufmBCEgiG"
      }
    },
    {
      "cell_type": "code",
      "source": [
        "# 좋아요 제일 많은 풀이\n",
        "\n",
        "def solution(id_list, report, k):\n",
        "    answer = [0] * len(id_list)    \n",
        "    reports = {x : 0 for x in id_list}\n",
        "\n",
        "    for r in set(report):\n",
        "        reports[r.split()[1]] += 1\n",
        "\n",
        "    for r in set(report):\n",
        "        if reports[r.split()[1]] >= k:\n",
        "            answer[id_list.index(r.split()[0])] += 1\n",
        "\n",
        "    return answer"
      ],
      "metadata": {
        "id": "Zr_d57kKEkIU"
      },
      "execution_count": null,
      "outputs": []
    },
    {
      "cell_type": "code",
      "source": [
        "from collections import defaultdict\n",
        "\n",
        "def solution(id_list, report, k):\n",
        "    count_d = defaultdict(int)\n",
        "    report_d = defaultdict(set)\n",
        "    answer = [0 for _ in range(len(id_list))]\n",
        "\n",
        "    # 신고내역 (set 사용으로 중복 제외)\n",
        "    for x in report:\n",
        "        person, reported = x.split()\n",
        "        report_d[person].add(reported)\n",
        "\n",
        "    # ID 별 신고 카운트\n",
        "    for x in report_d.values():\n",
        "        for y in x:\n",
        "            count_d[y] += 1\n",
        "\n",
        "    # 신고 받은 사람들의 신고 카운트를 센 뒤 answer에 저장\n",
        "    for idx, x in enumerate(id_list):\n",
        "        for y in report_d[x]:\n",
        "            if count_d[y] >= k:\n",
        "                answer[idx] += 1\n",
        "\n",
        "    return answer"
      ],
      "metadata": {
        "id": "1uapTcWZDV33"
      },
      "execution_count": null,
      "outputs": []
    },
    {
      "cell_type": "markdown",
      "source": [
        "# 코드 뜯어보기"
      ],
      "metadata": {
        "id": "V5cegn8cFDkI"
      }
    },
    {
      "cell_type": "code",
      "source": [
        "id_list = [\"muzi\", \"frodo\", \"apeach\", \"neo\"]\n",
        "report = [\"muzi frodo\",\"apeach frodo\",\"frodo neo\",\"muzi neo\",\"apeach muzi\"]\n",
        "k = 2"
      ],
      "metadata": {
        "id": "HcBd3ASGFMy5"
      },
      "execution_count": null,
      "outputs": []
    },
    {
      "cell_type": "code",
      "source": [
        "answer = [0] * len(id_list)    \n",
        "reports = {x : 0 for x in id_list}\n",
        "\n",
        "for r in set(report):\n",
        "    reports[r.split()[1]] += 1\n",
        "\n",
        "print(f'answer : {answer}')\n",
        "print(f'reports : {reports}')"
      ],
      "metadata": {
        "colab": {
          "base_uri": "https://localhost:8080/"
        },
        "id": "Brj42SnzFHx-",
        "outputId": "e06b273c-f23d-4670-99fd-ce2c2d47dc1e"
      },
      "execution_count": 79,
      "outputs": [
        {
          "output_type": "stream",
          "name": "stdout",
          "text": [
            "answer : [0, 0, 0, 0]\n",
            "reports : {'muzi': 1, 'frodo': 2, 'apeach': 0, 'neo': 2}\n"
          ]
        }
      ]
    },
    {
      "cell_type": "code",
      "source": [
        "print(set(report))"
      ],
      "metadata": {
        "colab": {
          "base_uri": "https://localhost:8080/"
        },
        "id": "0bc4xZ1vF5Yv",
        "outputId": "66bfbde9-6e8c-49a9-f100-fe30bdeb513e"
      },
      "execution_count": 84,
      "outputs": [
        {
          "output_type": "stream",
          "name": "stdout",
          "text": [
            "{'apeach frodo', 'frodo neo', 'muzi frodo', 'muzi neo', 'apeach muzi'}\n"
          ]
        }
      ]
    },
    {
      "cell_type": "code",
      "source": [
        "for r in set(report):\n",
        "    print(r.split()[1])\n",
        "    if reports[r.split()[1]] >= k:\n",
        "        print(r.split()[0])\n",
        "        answer[id_list.index(r.split()[0])] += 1"
      ],
      "metadata": {
        "colab": {
          "base_uri": "https://localhost:8080/"
        },
        "id": "g9A45vV9FXXd",
        "outputId": "f6117e52-23ed-444b-8f5d-fb548cf99917"
      },
      "execution_count": 83,
      "outputs": [
        {
          "output_type": "stream",
          "name": "stdout",
          "text": [
            "frodo\n",
            "apeach\n",
            "neo\n",
            "frodo\n",
            "frodo\n",
            "muzi\n",
            "neo\n",
            "muzi\n",
            "muzi\n"
          ]
        }
      ]
    },
    {
      "cell_type": "code",
      "source": [
        "answer"
      ],
      "metadata": {
        "colab": {
          "base_uri": "https://localhost:8080/"
        },
        "id": "qQ2Sh7YCFa0T",
        "outputId": "f8dd7431-b1bd-4ed2-96c8-e6fb10e7f4f7"
      },
      "execution_count": 78,
      "outputs": [
        {
          "output_type": "execute_result",
          "data": {
            "text/plain": [
              "[2, 1, 1, 0]"
            ]
          },
          "metadata": {},
          "execution_count": 78
        }
      ]
    }
  ]
}